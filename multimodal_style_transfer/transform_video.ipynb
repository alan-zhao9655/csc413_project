{
 "cells": [
  {
   "cell_type": "code",
   "execution_count": null,
   "metadata": {
    "collapsed": true
   },
   "outputs": [],
   "source": [
    "\"\"\" Imports \"\"\"\n",
    "\n",
    "from PIL import Image\n",
    "import skvideo.io\n",
    "import time\n",
    "import os\n",
    "\n",
    "import torch\n",
    "\n",
    "from utils import *\n",
    "\n",
    "# for auto-reloading external modules\n",
    "# see http://stackoverflow.com/questions/1907993/autoreload-of-modules-in-ipython\n",
    "%load_ext autoreload\n",
    "%autoreload 2"
   ]
  },
  {
   "cell_type": "code",
   "execution_count": null,
   "metadata": {
    "collapsed": true
   },
   "outputs": [],
   "source": [
    "MODEL = \"still_life\""
   ]
  },
  {
   "cell_type": "code",
   "execution_count": null,
   "metadata": {
    "collapsed": true
   },
   "outputs": [],
   "source": [
    "\"\"\" Select correct device \"\"\"\n",
    "\n",
    "device = torch.device(\"cuda\" if torch.cuda.is_available() else \"cpu\")"
   ]
  },
  {
   "cell_type": "code",
   "execution_count": null,
   "metadata": {},
   "outputs": [],
   "source": [
    "\"\"\" Load trained model \"\"\"\n",
    "\n",
    "style_subnet = torch.load('models/style_subnet_' + MODEL + '.pt', map_location='cpu').eval().to(device)\n",
    "enhance_subnet = torch.load('models/enhance_subnet_' + MODEL + '.pt', map_location='cpu').eval().to(device)\n",
    "refine_subnet = torch.load('models/refine_subnet_' + MODEL + '.pt', map_location='cpu').eval().to(device)"
   ]
  },
  {
   "cell_type": "code",
   "execution_count": null,
   "metadata": {},
   "outputs": [],
   "source": [
    "\"\"\" Transform video \"\"\"\n",
    "\n",
    "preprocess = transforms.Compose([\n",
    "    transforms.ToTensor(),\n",
    "    tensor_normalizer()])\n",
    "\n",
    "frames_256, frames_512, frames_1024, frames_orig = [], [], [], []\n",
    "videogen = skvideo.io.vread(\"videos/test_vid.mp4\")\n",
    "start = time.time()\n",
    "count = 0\n",
    "for frame in videogen:\n",
    "    count += 1\n",
    "    frames_orig.append(Image.fromarray(frame))\n",
    "    with torch.no_grad():\n",
    "        y_frame_256, _ = style_subnet(preprocess(frame).unsqueeze(0).to(device))\n",
    "        y_frame_512, _ = enhance_subnet(y_frame_256)\n",
    "        y_frame_1024, _ = enhance_subnet(y_frame_512)\n",
    "        \n",
    "    frames_256.append(recover_frame(y_frame_256))\n",
    "    frames_512.append(recover_frame(y_frame_512))\n",
    "    frames_1024.append(recover_frame(y_frame_1024))\n",
    "    print(\"Frame {} of {} processed. Total time: {:.2f}s, time per frame: {:.2f}s\".format(\n",
    "            count, len(videogen), time.time()-start, (time.time()-start)/count))"
   ]
  },
  {
   "cell_type": "code",
   "execution_count": null,
   "metadata": {
    "collapsed": true
   },
   "outputs": [],
   "source": [
    "\"\"\" Save videos \"\"\"\n",
    "\n",
    "# generated video after refine subnet\n",
    "writer = skvideo.io.FFmpegWriter(\"generated_videos/generated_vid_\" + MODEL + \".mp4\", outputdict={\"-pix_fmt\":\"yuv420p\"})\n",
    "for frame in frames_1024:\n",
    "    writer.writeFrame(frame)\n",
    "writer.close()\n",
    "\n",
    "# original video\n",
    "writer = skvideo.io.FFmpegWriter(\"generated_videos/original_vid_\" + MODEL + \".mp4\", outputdict={\"-pix_fmt\":\"yuv420p\"})\n",
    "for frame in frames_orig:\n",
    "    writer.writeFrame(frame)\n",
    "writer.close()"
   ]
  },
  {
   "cell_type": "code",
   "execution_count": null,
   "metadata": {
    "collapsed": true
   },
   "outputs": [],
   "source": []
  }
 ],
 "metadata": {
  "kernelspec": {
   "display_name": "i2dl",
   "language": "python",
   "name": "i2dl"
  },
  "language_info": {
   "codemirror_mode": {
    "name": "ipython",
    "version": 3
   },
   "file_extension": ".py",
   "mimetype": "text/x-python",
   "name": "python",
   "nbconvert_exporter": "python",
   "pygments_lexer": "ipython3",
   "version": "3.6.3"
  }
 },
 "nbformat": 4,
 "nbformat_minor": 2
}
