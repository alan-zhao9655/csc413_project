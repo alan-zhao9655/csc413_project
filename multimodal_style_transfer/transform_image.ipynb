{
 "cells": [
  {
   "cell_type": "code",
   "execution_count": 1,
   "metadata": {
    "collapsed": true
   },
   "outputs": [],
   "source": [
    "\"\"\" Imports \"\"\"\n",
    "\n",
    "import sys\n",
    "import time\n",
    "import os\n",
    "import torch\n",
    "from utils import *\n",
    "# Set PYTHONPATH to include the directory that contains the 'CNN' folder\n",
    "# for auto-reloading external modules\n",
    "# see http://stackoverflow.com/questions/1907993/autoreload-of-modules-in-ipython\n",
    "%load_ext autoreload\n",
    "%autoreload 2"
   ]
  },
  {
   "cell_type": "code",
   "execution_count": 2,
   "metadata": {
    "collapsed": true
   },
   "outputs": [],
   "source": [
    "\"\"\" Style model \"\"\"\n",
    "\n",
    "MODEL = \"mosaic\""
   ]
  },
  {
   "cell_type": "code",
   "execution_count": 3,
   "metadata": {
    "collapsed": true
   },
   "outputs": [
    {
     "ename": "",
     "evalue": "",
     "output_type": "error",
     "traceback": [
      "\u001b[1;31mThe Kernel crashed while executing code in the current cell or a previous cell. \n",
      "\u001b[1;31mPlease review the code in the cell(s) to identify a possible cause of the failure. \n",
      "\u001b[1;31mClick <a href='https://aka.ms/vscodeJupyterKernelCrash'>here</a> for more info. \n",
      "\u001b[1;31mView Jupyter <a href='command:jupyter.viewOutput'>log</a> for further details."
     ]
    }
   ],
   "source": [
    "\"\"\" Load input image \"\"\"\n",
    "CONTENT = \"toronto\"\n",
    "input_img_path = \"content_imgs/toronto.jpg\"\n",
    "input_img = image_loader(input_img_path)"
   ]
  },
  {
   "cell_type": "code",
   "execution_count": null,
   "metadata": {},
   "outputs": [],
   "source": [
    "imshow(input_img)"
   ]
  },
  {
   "cell_type": "code",
   "execution_count": null,
   "metadata": {
    "collapsed": true
   },
   "outputs": [],
   "source": [
    "\"\"\" load models \"\"\"\n",
    "\n",
    "device = torch.device(\"cuda\" if torch.cuda.is_available() else \"cpu\")\n",
    "style_subnet = torch.load('models/trained_style_subnet' + \"_\" + MODEL + '.pt', map_location='cpu').eval().to(device)\n",
    "enhance_subnet = torch.load('models/trained_enhance_subnet' + \"_\" + MODEL + '.pt', map_location='cpu').eval().to(device)\n",
    "refine_subnet = torch.load('models/trained_refine_subnet' + \"_\" + MODEL + '.pt', map_location='cpu').eval().to(device)"
   ]
  },
  {
   "cell_type": "code",
   "execution_count": null,
   "metadata": {
    "collapsed": true
   },
   "outputs": [],
   "source": [
    "\"\"\" Transform \"\"\"\n",
    "\n",
    "print(\"Start transforming on {}..\".format(device))\n",
    "start = time.time()\n",
    "with torch.no_grad():\n",
    "    generated_img_256, resized_input_img_256 = style_subnet(input_img)\n",
    "    generated_img_512, resized_input_img_512 = enhance_subnet(generated_img_256)\n",
    "    generated_img_1024, resized_input_img_1024 = refine_subnet(generated_img_512)\n",
    "print(\"Image transformed. Time for pass: {:.2f}s\".format(time.time() - start))\n",
    "\n",
    "imshow(generated_img_256)\n",
    "imshow(generated_img_512)\n",
    "imshow(generated_img_1024)\n",
    "save_image(generated_img_256, title=\"generated/multimodal_\" + MODEL + '_' + 'CONTENT' + \"_256\")\n",
    "save_image(generated_img_512, title=\"generated/multimodal_\" + MODEL + '_' + 'CONTENT' + \"_512\")\n",
    "save_image(generated_img_1024, title=\"generated/multimodal_\" + MODEL + '_' + 'CONTENT' + \"_1024\")"
   ]
  },
  {
   "cell_type": "code",
   "execution_count": null,
   "metadata": {
    "collapsed": true
   },
   "outputs": [],
   "source": [
    "diff_256_orig = generated_img_256 - resized_input_img_256\n",
    "diff_512_256 = generated_img_512 - resized_input_img_512\n",
    "diff_1024_512 = generated_img_1024 - resized_input_img_1024\n",
    "imshow(diff_256_orig)\n",
    "imshow(diff_512_256)\n",
    "imshow(diff_1024_512)s"
   ]
  }
 ],
 "metadata": {
  "kernelspec": {
   "display_name": "Python 3",
   "language": "python",
   "name": "python3"
  },
  "language_info": {
   "codemirror_mode": {
    "name": "ipython",
    "version": 3
   },
   "file_extension": ".py",
   "mimetype": "text/x-python",
   "name": "python",
   "nbconvert_exporter": "python",
   "pygments_lexer": "ipython3",
   "version": "3.10.13"
  }
 },
 "nbformat": 4,
 "nbformat_minor": 2
}
